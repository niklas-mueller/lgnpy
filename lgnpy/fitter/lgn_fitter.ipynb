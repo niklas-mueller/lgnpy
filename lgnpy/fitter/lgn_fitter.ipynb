{
 "cells": [
  {
   "cell_type": "code",
   "execution_count": 1,
   "metadata": {},
   "outputs": [],
   "source": [
    "from lgnpy.CEandSC.lgn_statistics import lgn_statistics, interp1d, regress\n",
    "# conv2padded, filter_lgn, create_hist, local_cov\n",
    "from result_manager.result_manager import ResultManager\n",
    "from lgnpy.run_LGNstatistics import loadmat\n",
    "from PIL import Image\n",
    "import numpy as np\n",
    "from matplotlib import pyplot as plt\n",
    "from scipy.stats import zscore\n",
    "import os\n",
    "from sklearn.linear_model import LinearRegression\n",
    "import multiprocessing\n",
    "import warnings\n",
    "import tqdm\n",
    "from scipy.optimize import minimize"
   ]
  },
  {
   "cell_type": "code",
   "execution_count": 2,
   "metadata": {},
   "outputs": [],
   "source": [
    "erp = loadmat('/home/niklas/projects/eeg_jneurosc13/ERPs_singlesubjects14_singletrials_behexcluded.mat')\n",
    "sensors = erp['sensors']\n",
    "data = erp['Y']"
   ]
  },
  {
   "attachments": {},
   "cell_type": "markdown",
   "metadata": {},
   "source": [
    "# Setup"
   ]
  },
  {
   "cell_type": "code",
   "execution_count": 3,
   "metadata": {},
   "outputs": [],
   "source": [
    "# # viewing_dist=1\n",
    "# # dot_pitch=0.00035\n",
    "# # fov_beta=1.5\n",
    "# # fov_gamma=5\n",
    "\n",
    "# # # if im.shape[-1] == 2:\n",
    "# # #     IMTYPE = 1  # Gray\n",
    "# # # elif im.shape[-1] == 3:\n",
    "# # IMTYPE = 2  # Color\n",
    "\n",
    "# # # imsize = im.shape[:2]\n",
    "# # imsize = (480, 640)\n",
    "\n",
    "# # #######################################################\n",
    "# # # Set parameters for field of view\n",
    "# # #######################################################\n",
    "\n",
    "# def setup(imsize, viewing_dist=1, dot_pitch=0.00035, fov_beta=1.5, fov_gamma=5):\n",
    "\n",
    "#     fovx = round(imsize[1]/2)          # x-pixel loc. of fovea center\n",
    "#     fovy = round(imsize[0]/2)          # y-pixel loc. of fovea center\n",
    "#     # ex and ey are the x- and y- offsets of each pixel compared to\n",
    "#     # the point of focus (fovx,fovy) in pixels.\n",
    "#     ex, ey = np.meshgrid(np.arange(start=-fovx+1, stop=imsize[1]-fovx+1),\n",
    "#                         np.arange(start=-fovy+1, stop=imsize[0]-fovy+1))\n",
    "#     # eradius is the radial distance between each point and the point\n",
    "#     # of gaze.  This is in meters.\n",
    "#     eradius = dot_pitch * np.sqrt(ex**2+ey**2)\n",
    "#     #del ex, ey\n",
    "#     # calculate ec, the eccentricity from the foveal center, for each\n",
    "#     # point in the image.  ec is in degrees.\n",
    "#     ec = 180*np.arctan(eradius / viewing_dist)/np.pi\n",
    "#     # select the pixels that fall within the input visual field of view\n",
    "#     imfovbeta = (ec < fov_beta)\n",
    "#     imfovgamma = (ec < fov_gamma)\n",
    "\n",
    "#     return imfovbeta, imfovgamma"
   ]
  },
  {
   "cell_type": "code",
   "execution_count": 4,
   "metadata": {},
   "outputs": [
    {
     "name": "stdout",
     "output_type": "stream",
     "text": [
      "Could not load mat file with mat73 - trying to load with scipy.io.loadmat!\n"
     ]
    }
   ],
   "source": [
    "threshold_lgn = loadmat('/home/niklas/projects/lgnpy/ThresholdLGN.mat')\n",
    "threshold_lgn = threshold_lgn['ThresholdLGN']"
   ]
  },
  {
   "attachments": {},
   "cell_type": "markdown",
   "metadata": {},
   "source": [
    "# Get CE/SC"
   ]
  },
  {
   "cell_type": "code",
   "execution_count": 5,
   "metadata": {},
   "outputs": [],
   "source": [
    "root = '/home/niklas/projects/eeg_jneurosc13/allstim/'\n",
    "image_names = [f for f in os.listdir(root) if os.path.join(root, f).endswith('jpg')]"
   ]
  },
  {
   "cell_type": "code",
   "execution_count": 6,
   "metadata": {},
   "outputs": [],
   "source": [
    "def iterate(args):\n",
    "    image_name, image_index, config = args\n",
    "    im = Image.open(os.path.join('/home/niklas/projects/eeg_jneurosc13/allstim/', image_name))\n",
    "    im = np.array(im)\n",
    "\n",
    "    (ce, sc, beta, gamma) = lgn_statistics(im=im, file_name=image_name, config=config, threshold_lgn=threshold_lgn)\n",
    "\n",
    "    return ce, sc, image_index"
   ]
  },
  {
   "cell_type": "code",
   "execution_count": 7,
   "metadata": {},
   "outputs": [],
   "source": [
    "def get_sc_ce(image_names, threshold_lgn, config):\n",
    "    ces = np.zeros((len(image_names), 3, 1, 2))\n",
    "    scs = np.zeros((len(image_names), 3, 1, 2))\n",
    "\n",
    "\n",
    "    with multiprocessing.Pool() as pool:\n",
    "        results = list(tqdm.tqdm(pool.imap(iterate, [(image_name, index, config) for index, image_name in enumerate(image_names)]), total=len(image_names)))\n",
    "    \n",
    "    for ce, sc, index in results:\n",
    "        # Make sure that this is in the same order as the ERP data!\n",
    "        filename = image_names[index]\n",
    "        index = int(filename.split('.')[0].split('_')[1]) - 1\n",
    "        ces[index, :,:,:] = ce\n",
    "        scs[index, :,:,:] = sc\n",
    "\n",
    "    return ces, scs"
   ]
  },
  {
   "attachments": {},
   "cell_type": "markdown",
   "metadata": {},
   "source": [
    "## Create Design Matrix"
   ]
  },
  {
   "cell_type": "code",
   "execution_count": 8,
   "metadata": {},
   "outputs": [],
   "source": [
    "def regression(ces, scs):\n",
    "    average_colors = True\n",
    "\n",
    "    if average_colors:\n",
    "        ce_avg = zscore(np.mean(ces[:,:,0,0], axis=-1))\n",
    "        sc_avg = zscore(np.mean(scs[:,:,0,0], axis=-1))\n",
    "    else:\n",
    "        ce_avg = zscore(ces[:,:,0,0], axis=0)\n",
    "        sc_avg = zscore(scs[:,:,0,0], axis=0)\n",
    "\n",
    "    if len(ce_avg.shape) > 1:\n",
    "        c = np.ones((ce_avg.shape[0], 1)) #* np.mean(ce_avg)\n",
    "        zeros = np.zeros(ce_avg.shape)\n",
    "        rep1 = np.hstack((c, ce_avg, zeros, sc_avg, zeros))\n",
    "        rep2 = np.hstack((c, zeros, ce_avg, zeros, sc_avg))\n",
    "        design_matrix = np.vstack((rep1, rep2))\n",
    "    else:\n",
    "        c = np.ones((ce_avg.shape[0])) #* np.mean(ce_avg)\n",
    "        zeros = np.zeros(ce_avg.shape)\n",
    "        rep1 = np.vstack((c, ce_avg, zeros, sc_avg, zeros))\n",
    "        rep2 = np.vstack((c, zeros, ce_avg, zeros, sc_avg))\n",
    "        design_matrix = np.hstack((rep1, rep2)).T\n",
    "\n",
    "    r2_sensors = {}\n",
    "    beta_sensors = {}\n",
    "    \n",
    "    for sensor_index, sensor in [(43, 'Oz')]:\n",
    "        r2_subjects = {}\n",
    "        beta_subjects = {}\n",
    "        for subject in range(14):\n",
    "            r2s = []\n",
    "            betas = []\n",
    "            for time_index in range(154):\n",
    "                with warnings.catch_warnings():\n",
    "                    warnings.simplefilter(\"ignore\", category=RuntimeWarning)\n",
    "                    # y = np.repeat(np.nanmean(np.vstack((data[subject,time_index,sensor_index,:1600] ,data[subject,time_index,sensor_index,1600:])), axis=0), repeats=2)\n",
    "                    y = data[subject,time_index,sensor_index,:]\n",
    "                # mask = np.isnan(y)\n",
    "                # x = design_matrix[~mask]\n",
    "                # y = zscore(y[~mask])\n",
    "                # if x.shape[0] == 0 or y.shape[0] == 0:\n",
    "                #     r2s.append(-1)\n",
    "                #     continue\n",
    "\n",
    "                # lin_reg = LinearRegression().fit(x, y)\n",
    "                # r2 = lin_reg.score(x,y)\n",
    "                # beta = lin_reg.coef_\n",
    "                r2, beta = regress(y, design_matrix=design_matrix)\n",
    "                r2s.append(r2)\n",
    "                betas.append(beta)\n",
    "\n",
    "            r2_subjects[subject] = r2s\n",
    "            beta_subjects[subject] = betas\n",
    "\n",
    "        # res.append(r2_subjects.values())\n",
    "\n",
    "    r2_sensors[sensor] = r2_subjects\n",
    "    beta_sensors[sensor] = beta_subjects\n",
    "    \n",
    "    return (r2_sensors, beta_sensors)"
   ]
  },
  {
   "cell_type": "code",
   "execution_count": 9,
   "metadata": {},
   "outputs": [],
   "source": [
    "# This needs to take any input variable, not sure how to do this. Easiest and most flexible would be to have any loose variable defined in a dictionary\n",
    "def comb(image_names, threshold_lgn, config):\n",
    "    ces, scs = get_sc_ce(image_names, threshold_lgn=threshold_lgn, config=config)\n",
    "    return regression(ces, scs)"
   ]
  },
  {
   "cell_type": "code",
   "execution_count": 10,
   "metadata": {},
   "outputs": [
    {
     "name": "stderr",
     "output_type": "stream",
     "text": [
      "  3%|▎         | 50/1600 [00:00<00:11, 136.37it/s]/home/niklas/projects/lgnpy/lgnpy/CEandSC/lgn_statistics.py:54: RuntimeWarning: divide by zero encountered in double_scalars\n",
      "  return f / f_prime\n",
      " 58%|█████▊    | 925/1600 [00:25<00:26, 25.28it/s] /home/niklas/projects/lgnpy/lgnpy/CEandSC/lgn_statistics.py:54: RuntimeWarning: divide by zero encountered in double_scalars\n",
      "  return f / f_prime\n",
      "100%|██████████| 1600/1600 [01:02<00:00, 25.75it/s]\n",
      "100%|██████████| 1600/1600 [01:43<00:00, 15.40it/s]\n"
     ]
    }
   ],
   "source": [
    "configs = [{\n",
    "    'viewing_dist': 1\n",
    "},\n",
    "{\n",
    "    'viewing_dist': 5\n",
    "}]\n",
    "\n",
    "res = []\n",
    "\n",
    "# for viewing_dist in [0.5, 0.8, 1.0, 1.5]:\n",
    "for config in configs:\n",
    "    res.append(comb(image_names=image_names, threshold_lgn=threshold_lgn, config=config))"
   ]
  },
  {
   "cell_type": "code",
   "execution_count": null,
   "metadata": {},
   "outputs": [],
   "source": [
    "res[0][0][\"Oz\"]"
   ]
  },
  {
   "cell_type": "code",
   "execution_count": 2,
   "metadata": {},
   "outputs": [
    {
     "ename": "NameError",
     "evalue": "name 'plt' is not defined",
     "output_type": "error",
     "traceback": [
      "\u001b[0;31m---------------------------------------------------------------------------\u001b[0m",
      "\u001b[0;31mNameError\u001b[0m                                 Traceback (most recent call last)",
      "\u001b[1;32m/home/niklas/projects/lgnpy/lgnpy/fitter/lgn_fitter.ipynb Cell 15\u001b[0m in \u001b[0;36m<cell line: 1>\u001b[0;34m()\u001b[0m\n\u001b[0;32m----> <a href='vscode-notebook-cell://wsl%2Bubuntu/home/niklas/projects/lgnpy/lgnpy/fitter/lgn_fitter.ipynb#X20sdnNjb2RlLXJlbW90ZQ%3D%3D?line=0'>1</a>\u001b[0m fig, ax \u001b[39m=\u001b[39m plt\u001b[39m.\u001b[39msubplots(\u001b[39m2\u001b[39m,\u001b[39m1\u001b[39m, figsize\u001b[39m=\u001b[39m(\u001b[39m15\u001b[39m,\u001b[39m5\u001b[39m))\n\u001b[1;32m      <a href='vscode-notebook-cell://wsl%2Bubuntu/home/niklas/projects/lgnpy/lgnpy/fitter/lgn_fitter.ipynb#X20sdnNjb2RlLXJlbW90ZQ%3D%3D?line=1'>2</a>\u001b[0m \u001b[39mfor\u001b[39;00m sub \u001b[39min\u001b[39;00m \u001b[39mrange\u001b[39m(\u001b[39m14\u001b[39m):\n\u001b[1;32m      <a href='vscode-notebook-cell://wsl%2Bubuntu/home/niklas/projects/lgnpy/lgnpy/fitter/lgn_fitter.ipynb#X20sdnNjb2RlLXJlbW90ZQ%3D%3D?line=2'>3</a>\u001b[0m     ax[\u001b[39m0\u001b[39m]\u001b[39m.\u001b[39mplot(res[\u001b[39m0\u001b[39m][\u001b[39m0\u001b[39m][\u001b[39m'\u001b[39m\u001b[39mOz\u001b[39m\u001b[39m'\u001b[39m][sub])\n",
      "\u001b[0;31mNameError\u001b[0m: name 'plt' is not defined"
     ]
    }
   ],
   "source": [
    "fig, ax = plt.subplots(2,1, figsize=(15,5))\n",
    "for sub in range(14):\n",
    "    ax[0].plot(res[0][0]['Oz'][sub])\n",
    "\n",
    "ax[0].plot(np.mean(np.array([x for _, x in res[0][0]['Oz'].items()]), axis=0), 'k', linewidth=4.0)\n",
    "for sub in range(14):\n",
    "    ax[1].plot(res[1][0]['Oz'][sub])\n",
    "\n",
    "ax[1].plot(np.mean(np.array([x for _, x in res[1][0]['Oz'].items()]), axis=0), 'k', linewidth=4.0)"
   ]
  }
 ],
 "metadata": {
  "kernelspec": {
   "display_name": "oads",
   "language": "python",
   "name": "python3"
  },
  "language_info": {
   "codemirror_mode": {
    "name": "ipython",
    "version": 3
   },
   "file_extension": ".py",
   "mimetype": "text/x-python",
   "name": "python",
   "nbconvert_exporter": "python",
   "pygments_lexer": "ipython3",
   "version": "3.9.13"
  },
  "orig_nbformat": 4,
  "vscode": {
   "interpreter": {
    "hash": "35f1b51645cdcbb206d6bffd09b7967f1e22f262807a6af3fb1ff35a1a83c6cf"
   }
  }
 },
 "nbformat": 4,
 "nbformat_minor": 2
}
